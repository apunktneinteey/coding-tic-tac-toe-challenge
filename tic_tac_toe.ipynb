{
 "cells": [
  {
   "cell_type": "code",
   "execution_count": 52,
   "metadata": {},
   "outputs": [],
   "source": [
    "#DEFINE filename to start script in terminal\n",
    "#DEFINE function user_input\n",
    "    #INPUT username\n",
    "#DEFINE function icon (X or O)\n",
    "    #STORE global iconlist\n",
    "        #ASK for userinput (icon)\n",
    "        #WHILE input input is not correct:\n",
    "            #PRINT choose X or O\n",
    "            #IF icon correct:\n",
    "                #BREAK\n",
    "        #IF icon1 X \n",
    "            #-> icon2 O\n",
    "        #ELIF icon1 O \n",
    "            #-> icon2 X\n",
    "        #ADD icons to iconlist\n",
    "#DEFINE function for display\n",
    "    #STORE display    \n",
    "#(CHOOSE beginner by random (import random))\n",
    "#DEFINE winner (all())\n",
    "    #IF condition: True\n",
    "    #ELSE: False\n",
    "#DEFINE draw\n",
    "    #IF condition: True\n",
    "    #Else: False\n",
    "#DEFINE player turns\n",
    "    #WHILE no win or draw, loop keeps on going\n",
    "        #IF win or draw --> break \n",
    "            #PRINT name(winner) or draw\n",
    "    #ELSE: continue\n",
    "    #FOR times of turns in range(10):   \n",
    "        #TAKE_TURN with % user1 = even, user2 = odd\n"
   ]
  },
  {
   "cell_type": "code",
   "execution_count": 53,
   "metadata": {},
   "outputs": [],
   "source": [
    "#DEFINE function user_input\n",
    "    #INPUT username\n",
    "\n",
    "\n",
    "def input_username():\n",
    "    #global names\n",
    "    names = []\n",
    "    name_1 = input('Please insert your name:')\n",
    "    name_2 = input('Please insert your name:')\n",
    "    names.append(name_1)\n",
    "    names.append(name_2)\n",
    "    print(f'Hi {name_1} and {name_2} let\\'s play tick tack toe!')\n",
    "    print(f'{name_1} next choose your icon, please.')\n",
    "    return names\n",
    "\n",
    "\n",
    "\n",
    "\n",
    "\n"
   ]
  },
  {
   "cell_type": "code",
   "execution_count": 54,
   "metadata": {},
   "outputs": [],
   "source": [
    "#DEFINE function user_input\n",
    "    \n",
    "def input_usericon(names):\n",
    "    #global icons\n",
    "    icons = []\n",
    "    icon_1 = input('Please choose your icon (X or O):') #fragt auch bei richtiger Eingabe zweimal\n",
    "    while icon_1 != 'X' or icon_1 != 'O':               #nochmal anschauen\n",
    "        print('Only enter X or O, please.')\n",
    "        icon_1 = input('Please choose your icon (X or O):')\n",
    "        if icon_1 == 'X' or icon_1 == 'O':\n",
    "            break\n",
    "    if icon_1 == 'X':\n",
    "        icon_2 = 'O'\n",
    "    elif icon_1 == 'O':\n",
    "        icon_2 = 'X'\n",
    "    icons.append(icon_1)\n",
    "    icons.append(icon_2)\n",
    "    print(names[0] + f' your icon is {icon_1}.')\n",
    "    print(names[1] + f' your icon is {icon_2}.')\n",
    "    print(' ')\n",
    "    return icons\n",
    "\n",
    "#input_usericon()\n"
   ]
  },
  {
   "cell_type": "code",
   "execution_count": 55,
   "metadata": {},
   "outputs": [],
   "source": [
    "#DEFINE function for display\n",
    "\n",
    "display = [[1,2,3], [4,5,6],[7,8,9]]\n",
    "\n",
    "def show_display_1(display):\n",
    "    for x in display:\n",
    "        print(*x)"
   ]
  },
  {
   "cell_type": "code",
   "execution_count": 56,
   "metadata": {},
   "outputs": [],
   "source": [
    "#DEFINE function for display\n",
    "\n",
    "display = ['some variable', 1, 2, 3, 4, 5, 6, 7, 8, 9]\n",
    "\n",
    "def show_display_2(display):\n",
    "    print(display[1], '|', display[2], '|', display[3])\n",
    "    print('---------')\n",
    "    print(display[4], '|', display[5], '|', display[6])\n",
    "    print('---------')\n",
    "    print(display[7], '|', display[8], '|', display[9])"
   ]
  },
  {
   "cell_type": "code",
   "execution_count": 65,
   "metadata": {},
   "outputs": [
    {
     "name": "stdout",
     "output_type": "stream",
     "text": [
      "  \n",
      "Mia, please enter a number between 1 and 9:\n",
      "  \n",
      "1 | 2 | 3\n",
      "---------\n",
      "X | 5 | 6\n",
      "---------\n",
      "7 | 8 | 9\n"
     ]
    }
   ],
   "source": [
    "#DEFINE player turns\n",
    "def player_turns(names, icons):\n",
    "    print(\"  \")\n",
    "    print(names[0] + (\", please enter a number between 1 and 9:\"))\n",
    "    print(\"  \")\n",
    "    user_input = int(input())\n",
    "    display = ['some variable', 1, 2, 3, 4, 5, 6, 7, 8, 9]\n",
    "    display[user_input] = icons[0]\n",
    "    show_display_2(display)\n",
    "\n",
    "\n",
    "    #WHILE no win or draw, loop keeps on going\n",
    "        #IF win or draw --> break \n",
    "            #PRINT name(winner) or draw\n",
    "    #ELSE: continue\n",
    "        #INPUT names[index]\n",
    "  \n",
    "\n",
    "    #FOR times of turns in range(10):   \n",
    "        #TAKE_TURN with % user1 = even, user2 = odd\n",
    "player_turns(names, icons)"
   ]
  },
  {
   "cell_type": "code",
   "execution_count": 66,
   "metadata": {},
   "outputs": [
    {
     "name": "stdout",
     "output_type": "stream",
     "text": [
      "Hi Mia and Anna let's play tick tack toe!\n",
      "Mia next choose your icon, please.\n",
      "Only enter X or O, please.\n",
      "Mia your icon is X.\n",
      "Anna your icon is O.\n",
      " \n",
      "1 | 2 | 3\n",
      "---------\n",
      "4 | 5 | 6\n",
      "---------\n",
      "7 | 8 | 9\n",
      "  \n",
      "Mia, please enter a number between 1 and 9:\n",
      "  \n",
      "1 | 2 | 3\n",
      "---------\n",
      "4 | 5 | 6\n",
      "---------\n",
      "7 | X | 9\n"
     ]
    }
   ],
   "source": [
    "def play_game():\n",
    "    #input_username()\n",
    "    names = input_username()\n",
    "    #input_usericon(names)\n",
    "    icons = input_usericon(names)\n",
    "    show_display_2(display)\n",
    "    player_turns(names, icons)\n",
    "\n",
    "play_game()\n"
   ]
  }
 ],
 "metadata": {
  "kernelspec": {
   "display_name": "Python 3",
   "language": "python",
   "name": "python3"
  },
  "language_info": {
   "codemirror_mode": {
    "name": "ipython",
    "version": 3
   },
   "file_extension": ".py",
   "mimetype": "text/x-python",
   "name": "python",
   "nbconvert_exporter": "python",
   "pygments_lexer": "ipython3",
   "version": "3.9.8"
  },
  "orig_nbformat": 4
 },
 "nbformat": 4,
 "nbformat_minor": 2
}
